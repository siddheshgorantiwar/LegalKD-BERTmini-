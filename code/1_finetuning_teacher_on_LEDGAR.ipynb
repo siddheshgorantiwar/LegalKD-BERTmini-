{
  "cells": [
    {
      "cell_type": "markdown",
      "metadata": {
        "id": "eBy7tk2Al4_w"
      },
      "source": [
        "##  Import Libraries and Load Dataset"
      ]
    },
    {
      "cell_type": "code",
      "execution_count": null,
      "metadata": {
        "colab": {
          "base_uri": "https://localhost:8080/"
        },
        "id": "yG4GnjhMi8i2",
        "outputId": "618843fe-e763-47a5-a0dd-117510018e29"
      },
      "outputs": [
        {
          "name": "stdout",
          "output_type": "stream",
          "text": [
            "Loading LEDGAR dataset...\n",
            "Train samples: 60000\n",
            "Validation samples: 10000\n",
            "Test samples: 10000\n",
            "Number of classes: 100\n"
          ]
        }
      ],
      "source": [
        "from datasets import load_dataset\n",
        "from transformers import (\n",
        "    AutoTokenizer,\n",
        "    AutoModelForSequenceClassification,\n",
        "    Trainer,\n",
        "    TrainingArguments\n",
        ")\n",
        "from sklearn.utils.class_weight import compute_class_weight\n",
        "from sklearn.metrics import accuracy_score, classification_report\n",
        "import numpy as np\n",
        "import torch\n",
        "import torch.nn as nn\n",
        "\n",
        "# Loading LEDGAR dataset\n",
        "print(\"Loading LEDGAR dataset...\")\n",
        "train_ds = load_dataset(\"lex_glue\", \"ledgar\", split=\"train\")\n",
        "val_ds = load_dataset(\"lex_glue\", \"ledgar\", split=\"validation\")\n",
        "test_ds = load_dataset(\"lex_glue\", \"ledgar\", split=\"test\")\n",
        "\n",
        "print(f\"Train samples: {len(train_ds)}\")\n",
        "print(f\"Validation samples: {len(val_ds)}\")\n",
        "print(f\"Test samples: {len(test_ds)}\")\n",
        "print(f\"Number of classes: {len(set(train_ds['label']))}\")\n"
      ]
    },
    {
      "cell_type": "markdown",
      "metadata": {
        "id": "bbZ2msX-l9Px"
      },
      "source": [
        "## Compute Class Weights for Imbalance Handling"
      ]
    },
    {
      "cell_type": "code",
      "execution_count": null,
      "metadata": {
        "colab": {
          "base_uri": "https://localhost:8080/"
        },
        "id": "_9qpO6oZi9jd",
        "outputId": "7f141017-8d7b-41a1-c298-1ddb2734c0c3"
      },
      "outputs": [
        {
          "name": "stdout",
          "output_type": "stream",
          "text": [
            "Computing class weights for imbalanced data...\n",
            "Class weights computed for 100 classes\n",
            "Weight range: 0.189 to 26.087\n",
            "Most common class: 3167 samples\n",
            "Least common class: 23 samples\n"
          ]
        }
      ],
      "source": [
        "train_labels = train_ds['label']\n",
        "\n",
        "# Compute class weights to handle imbalanced dataset\n",
        "print(\"Computing class weights for imbalanced data...\")\n",
        "class_weights = compute_class_weight(\n",
        "    class_weight='balanced',\n",
        "    classes=np.unique(train_labels),\n",
        "    y=train_labels\n",
        ")\n",
        "\n",
        "class_weights_tensor = torch.FloatTensor(class_weights)\n",
        "\n",
        "class WeightedCrossEntropyLoss(nn.Module):\n",
        "    def __init__(self, class_weights):\n",
        "        super().__init__()\n",
        "        self.class_weights = class_weights\n",
        "\n",
        "    def forward(self, predictions, targets):\n",
        "        return nn.functional.cross_entropy(\n",
        "            predictions,\n",
        "            targets,\n",
        "            weight=self.class_weights\n",
        "        )\n",
        "\n",
        "weighted_criterion = WeightedCrossEntropyLoss(class_weights_tensor)\n",
        "\n",
        "print(f\"Class weights computed for {len(class_weights)} classes\")\n",
        "print(f\"Weight range: {class_weights.min():.3f} to {class_weights.max():.3f}\")\n",
        "\n",
        "from collections import Counter\n",
        "label_counts = Counter(train_labels)\n",
        "print(f\"Most common class: {max(label_counts.values())} samples\")\n",
        "print(f\"Least common class: {min(label_counts.values())} samples\")\n"
      ]
    },
    {
      "cell_type": "markdown",
      "metadata": {
        "id": "134esNgLl__I"
      },
      "source": [
        "## Load and Setup Teacher Model"
      ]
    },
    {
      "cell_type": "code",
      "execution_count": null,
      "metadata": {
        "colab": {
          "base_uri": "https://localhost:8080/"
        },
        "id": "OIVfTOYLjB3q",
        "outputId": "cdd69357-0cf6-45a0-9ac9-efcda46db027"
      },
      "outputs": [
        {
          "name": "stdout",
          "output_type": "stream",
          "text": [
            "Loading Legal BERT teacher model...\n"
          ]
        },
        {
          "name": "stderr",
          "output_type": "stream",
          "text": [
            "Some weights of BertForSequenceClassification were not initialized from the model checkpoint at nlpaueb/legal-bert-base-uncased and are newly initialized: ['classifier.bias', 'classifier.weight']\n",
            "You should probably TRAIN this model on a down-stream task to be able to use it for predictions and inference.\n"
          ]
        },
        {
          "name": "stdout",
          "output_type": "stream",
          "text": [
            "Model loaded: nlpaueb/legal-bert-base-uncased\n",
            "Total parameters: 109,559,140\n",
            "Trainable parameters: 109,559,140\n"
          ]
        }
      ],
      "source": [
        "print(\"Loading Legal BERT teacher model...\")\n",
        "model_name = \"nlpaueb/legal-bert-base-uncased\"\n",
        "tokenizer = AutoTokenizer.from_pretrained(model_name)\n",
        "\n",
        "teacher_model = AutoModelForSequenceClassification.from_pretrained(\n",
        "    model_name,\n",
        "    num_labels=100,  # LEDGAR has 100 contract clause types\n",
        "    hidden_dropout_prob=0.15,      # Increased dropout for regularization\n",
        "    attention_probs_dropout_prob=0.15,\n",
        "    classifier_dropout=0.2          # Extra dropout in classification head\n",
        ")\n",
        "\n",
        "print(f\"Model loaded: {model_name}\")\n",
        "print(f\"Total parameters: {sum(p.numel() for p in teacher_model.parameters()):,}\")\n",
        "print(f\"Trainable parameters: {sum(p.numel() for p in teacher_model.parameters() if p.requires_grad):,}\")\n"
      ]
    },
    {
      "cell_type": "markdown",
      "metadata": {
        "id": "mi3ctWXbmCuD"
      },
      "source": [
        "##  Data Preprocessing"
      ]
    },
    {
      "cell_type": "code",
      "execution_count": null,
      "metadata": {
        "colab": {
          "base_uri": "https://localhost:8080/",
          "height": 84,
          "referenced_widgets": [
            "895b7179d25e4232a3448fce997a6654",
            "05c48c645564426c83a0699f13ee254f",
            "571fe6e8400241b0a6662136f55f601e",
            "2d1e9dcfb04642e882ae626776477288",
            "deab834b5b6d463dbdaacf9f2e6d04a4",
            "1e659aa472f4407081cc63b64aeddf8a",
            "bfe4dcb3e87a4a698c5e5c06ef34557c",
            "cf86db9652944b288ee153acdbb4ac06",
            "d449d88231644efb8385b846c5a01361",
            "53e4514f43ba493eb4a017b93a790b69",
            "9387ecdbc76c49b19dffa4a9af009790"
          ]
        },
        "id": "3QM7vbZejE-6",
        "outputId": "b697be7b-a501-47b9-89cf-183c75135462"
      },
      "outputs": [
        {
          "name": "stdout",
          "output_type": "stream",
          "text": [
            "Preprocessing datasets...\n"
          ]
        },
        {
          "data": {
            "application/vnd.jupyter.widget-view+json": {
              "model_id": "895b7179d25e4232a3448fce997a6654",
              "version_major": 2,
              "version_minor": 0
            },
            "text/plain": [
              "Map:   0%|          | 0/10000 [00:00<?, ? examples/s]"
            ]
          },
          "metadata": {},
          "output_type": "display_data"
        },
        {
          "name": "stdout",
          "output_type": "stream",
          "text": [
            "Datasets preprocessed and formatted for PyTorch\n"
          ]
        }
      ],
      "source": [
        "def preprocess_function(examples):\n",
        "    \"\"\"Tokenize the input texts\"\"\"\n",
        "    return tokenizer(\n",
        "        examples[\"text\"],\n",
        "        truncation=True,\n",
        "        padding=True,\n",
        "        max_length=512,    \n",
        "        return_tensors=\"pt\" if isinstance(examples[\"text\"], str) else None\n",
        "    )\n",
        "\n",
        "print(\"Preprocessing datasets...\")\n",
        "train_dataset = train_ds.map(preprocess_function, batched=True)\n",
        "val_dataset = val_ds.map(preprocess_function, batched=True)\n",
        "test_dataset = test_ds.map(preprocess_function, batched=True)\n",
        "\n",
        "train_dataset.set_format(type=\"torch\", columns=[\"input_ids\", \"attention_mask\", \"label\"])\n",
        "val_dataset.set_format(type=\"torch\", columns=[\"input_ids\", \"attention_mask\", \"label\"])\n",
        "test_dataset.set_format(type=\"torch\", columns=[\"input_ids\", \"attention_mask\", \"label\"])\n",
        "\n",
        "print(\"Datasets preprocessed and formatted for PyTorch\")\n"
      ]
    },
    {
      "cell_type": "markdown",
      "metadata": {
        "id": "Av31AlfYmGXb"
      },
      "source": [
        "## Define Metrics and Custom Trainer"
      ]
    },
    {
      "cell_type": "code",
      "execution_count": null,
      "metadata": {
        "colab": {
          "base_uri": "https://localhost:8080/"
        },
        "id": "pcPW3VmajHMl",
        "outputId": "18dea946-81e7-4a4e-8d6c-b0afa34b9840"
      },
      "outputs": [
        {
          "name": "stdout",
          "output_type": "stream",
          "text": [
            "Custom trainer with weighted loss defined\n"
          ]
        }
      ],
      "source": [
        "def compute_metrics(eval_pred):\n",
        "    \"\"\"Compute accuracy and per-class metrics\"\"\"\n",
        "    predictions, labels = eval_pred\n",
        "    predictions = np.argmax(predictions, axis=1)\n",
        "\n",
        "    accuracy = accuracy_score(labels, predictions)\n",
        "\n",
        "    report = classification_report(labels, predictions, output_dict=True, zero_division=0)\n",
        "\n",
        "    macro_f1 = report['macro avg']['f1-score']\n",
        "    weighted_f1 = report['weighted avg']['f1-score']\n",
        "\n",
        "    return {\n",
        "        'accuracy': accuracy,\n",
        "        'macro_f1': macro_f1,      # Treats all classes equally (good for bias detection)\n",
        "        'weighted_f1': weighted_f1  # Weighted by class frequency\n",
        "    }\n",
        "\n",
        "class WeightedTrainer(Trainer):\n",
        "    def __init__(self, class_weights, *args, **kwargs):\n",
        "        super().__init__(*args, **kwargs)\n",
        "        self.class_weights = class_weights\n",
        "\n",
        "    def compute_loss(self, model, inputs, return_outputs=False, num_items_in_batch=None):\n",
        "        labels = inputs.get(\"labels\")\n",
        "\n",
        "        outputs = model(**inputs)\n",
        "        logits = outputs.get('logits')\n",
        "\n",
        "        if self.class_weights.device != logits.device:\n",
        "            self.class_weights = self.class_weights.to(logits.device)\n",
        "\n",
        "        loss = nn.functional.cross_entropy(logits, labels, weight=self.class_weights)\n",
        "\n",
        "        return (loss, outputs) if return_outputs else loss\n",
        "\n",
        "\n",
        "print(\"Custom trainer with weighted loss defined\")\n"
      ]
    },
    {
      "cell_type": "markdown",
      "metadata": {
        "id": "_prHrfGimJCR"
      },
      "source": [
        "## Setup Training Arguments with Optimized Hyperparameters"
      ]
    },
    {
      "cell_type": "code",
      "execution_count": null,
      "metadata": {
        "colab": {
          "base_uri": "https://localhost:8080/"
        },
        "id": "NZLljkCUjQt5",
        "outputId": "51c9ad60-1d5c-4425-c503-cb91415ff960"
      },
      "outputs": [
        {
          "name": "stdout",
          "output_type": "stream",
          "text": [
            "Training arguments configured with optimized hyperparameters\n",
            "Effective batch size: 32\n",
            "Total training steps: ~7500\n"
          ]
        }
      ],
      "source": [
        "training_args = TrainingArguments(\n",
        "    output_dir=\"./legal-bert-ledgar-teacher\",\n",
        "    logging_dir=\"./logs\",\n",
        "    logging_steps=100,\n",
        "    logging_strategy=\"steps\",\n",
        "\n",
        "    num_train_epochs=4,                    \n",
        "    per_device_train_batch_size=8,         \n",
        "    per_device_eval_batch_size=16,         \n",
        "    gradient_accumulation_steps=4,         \n",
        "\n",
        "    learning_rate=1e-5,                    # Lower LR for stable fine-tuning\n",
        "    warmup_ratio=0.1,                      # 10% warmup steps\n",
        "    weight_decay=0.01,                     # L2 regularization\n",
        "    adam_epsilon=1e-8,\n",
        "    max_grad_norm=1.0,                     # Gradient clipping\n",
        "\n",
        "    lr_scheduler_type=\"cosine\",            # Cosine decay scheduler\n",
        "\n",
        "    eval_strategy=\"steps\",\n",
        "    eval_steps=1000,                        # Evaluate every 1000 steps\n",
        "    save_strategy=\"steps\",\n",
        "    save_steps=1000,                        # Save every 1000 steps\n",
        "    save_total_limit=3,                    # Keep only 3 best checkpoints\n",
        "\n",
        "    load_best_model_at_end=True,\n",
        "    metric_for_best_model=\"eval_macro_f1\", # Use macro F1 for unbiased selection\n",
        "    greater_is_better=True,\n",
        "\n",
        "\n",
        "\n",
        "    dataloader_drop_last=True,             # Drop incomplete batches\n",
        "    dataloader_num_workers=2,              # Parallel data loading\n",
        "    fp16=torch.cuda.is_available(),        # Mixed precision if GPU available\n",
        "\n",
        "    seed=42,\n",
        "    data_seed=42,\n",
        "\n",
        "    report_to=\"none\",                      # No wandb/tensorboard\n",
        "    disable_tqdm=False,                    # Keep progress bars\n",
        ")\n",
        "\n",
        "print(\"Training arguments configured with optimized hyperparameters\")\n",
        "print(f\"Effective batch size: {training_args.per_device_train_batch_size * training_args.gradient_accumulation_steps}\")\n",
        "print(f\"Total training steps: ~{len(train_dataset) // (training_args.per_device_train_batch_size * training_args.gradient_accumulation_steps) * training_args.num_train_epochs}\")\n"
      ]
    },
    {
      "cell_type": "markdown",
      "metadata": {
        "id": "A9ywwvEqmL0a"
      },
      "source": [
        "## Initialize and Run Training"
      ]
    },
    {
      "cell_type": "code",
      "execution_count": null,
      "metadata": {
        "colab": {
          "base_uri": "https://localhost:8080/",
          "height": 436
        },
        "id": "wqdaJ_1yjapm",
        "outputId": "827cd16e-facb-4426-9f84-46e658ce1944"
      },
      "outputs": [
        {
          "name": "stderr",
          "output_type": "stream",
          "text": [
            "The tokenizer has new PAD/BOS/EOS tokens that differ from the model config and generation config. The model config and generation config were aligned accordingly, being updated with the tokenizer's values. Updated tokens: {'bos_token_id': None}.\n"
          ]
        },
        {
          "name": "stdout",
          "output_type": "stream",
          "text": [
            "Starting teacher model training...\n",
            "\n",
            "\n"
          ]
        },
        {
          "data": {
            "text/html": [
              "\n",
              "    <div>\n",
              "      \n",
              "      <progress value='7500' max='7500' style='width:300px; height:20px; vertical-align: middle;'></progress>\n",
              "      [7500/7500 1:49:08, Epoch 4/4]\n",
              "    </div>\n",
              "    <table border=\"1\" class=\"dataframe\">\n",
              "  <thead>\n",
              " <tr style=\"text-align: left;\">\n",
              "      <th>Step</th>\n",
              "      <th>Training Loss</th>\n",
              "      <th>Validation Loss</th>\n",
              "      <th>Accuracy</th>\n",
              "      <th>Macro F1</th>\n",
              "      <th>Weighted F1</th>\n",
              "    </tr>\n",
              "  </thead>\n",
              "  <tbody>\n",
              "    <tr>\n",
              "      <td>1000</td>\n",
              "      <td>2.675700</td>\n",
              "      <td>2.347415</td>\n",
              "      <td>0.734300</td>\n",
              "      <td>0.554272</td>\n",
              "      <td>0.692024</td>\n",
              "    </tr>\n",
              "    <tr>\n",
              "      <td>2000</td>\n",
              "      <td>1.334300</td>\n",
              "      <td>1.193424</td>\n",
              "      <td>0.800300</td>\n",
              "      <td>0.674025</td>\n",
              "      <td>0.778577</td>\n",
              "    </tr>\n",
              "    <tr>\n",
              "      <td>3000</td>\n",
              "      <td>1.043200</td>\n",
              "      <td>0.962468</td>\n",
              "      <td>0.822900</td>\n",
              "      <td>0.722459</td>\n",
              "      <td>0.811107</td>\n",
              "    </tr>\n",
              "    <tr>\n",
              "      <td>4000</td>\n",
              "      <td>0.862900</td>\n",
              "      <td>0.854196</td>\n",
              "      <td>0.827800</td>\n",
              "      <td>0.736531</td>\n",
              "      <td>0.818881</td>\n",
              "    </tr>\n",
              "    <tr>\n",
              "      <td>5000</td>\n",
              "      <td>0.774600</td>\n",
              "      <td>0.814320</td>\n",
              "      <td>0.837400</td>\n",
              "      <td>0.752554</td>\n",
              "      <td>0.833688</td>\n",
              "    </tr>\n",
              "    <tr>\n",
              "      <td>6000</td>\n",
              "      <td>0.752300</td>\n",
              "      <td>0.787346</td>\n",
              "      <td>0.840400</td>\n",
              "      <td>0.757778</td>\n",
              "      <td>0.836703</td>\n",
              "    </tr>\n",
              "    <tr>\n",
              "      <td>7000</td>\n",
              "      <td>0.700300</td>\n",
              "      <td>0.782098</td>\n",
              "      <td>0.842200</td>\n",
              "      <td>0.760473</td>\n",
              "      <td>0.838505</td>\n",
              "    </tr>\n",
              "  </tbody>\n",
              "</table><p>"
            ],
            "text/plain": [
              "<IPython.core.display.HTML object>"
            ]
          },
          "metadata": {},
          "output_type": "display_data"
        },
        {
          "name": "stdout",
          "output_type": "stream",
          "text": [
            "Training completed!\n",
            "Final training loss: 1.3842\n",
            "Training time: 6549.60 seconds\n"
          ]
        }
      ],
      "source": [
        "trainer = WeightedTrainer(\n",
        "    class_weights=class_weights_tensor,\n",
        "    model=teacher_model,\n",
        "    args=training_args,\n",
        "    train_dataset=train_dataset,\n",
        "    eval_dataset=val_dataset,\n",
        "    processing_class=tokenizer,  \n",
        "    compute_metrics=compute_metrics,\n",
        ")\n",
        "\n",
        "print(\"Starting teacher model training...\\n\\n\")\n",
        "\n",
        "training_result = trainer.train()\n",
        "\n",
        "print(\"Training completed!\")\n",
        "print(f\"Final training loss: {training_result.training_loss:.4f}\")\n",
        "print(f\"Training time: {training_result.metrics['train_runtime']:.2f} seconds\")\n"
      ]
    },
    {
      "cell_type": "markdown",
      "metadata": {
        "id": "pVVS-EafmORb"
      },
      "source": [
        "## Evaluate and Save the Trained Teacher"
      ]
    },
    {
      "cell_type": "code",
      "execution_count": null,
      "metadata": {
        "colab": {
          "base_uri": "https://localhost:8080/",
          "height": 1000
        },
        "id": "7SEW3F63lA5T",
        "outputId": "01e1b6d9-478f-4b95-fce8-8396e4238344"
      },
      "outputs": [
        {
          "name": "stdout",
          "output_type": "stream",
          "text": [
            "Evaluating teacher model on test set...\n"
          ]
        },
        {
          "data": {
            "text/html": [],
            "text/plain": [
              "<IPython.core.display.HTML object>"
            ]
          },
          "metadata": {},
          "output_type": "display_data"
        },
        {
          "name": "stdout",
          "output_type": "stream",
          "text": [
            "TEACHER MODEL EVALUATION RESULTS\n",
            "\n",
            "\n",
            "Test Accuracy: 0.8392\n",
            "Test Macro F1: 0.7466\n",
            "Test Weighted F1: 0.8342\n"
          ]
        },
        {
          "name": "stderr",
          "output_type": "stream",
          "text": [
            "/usr/local/lib/python3.12/dist-packages/sklearn/metrics/_classification.py:1565: UndefinedMetricWarning: Precision is ill-defined and being set to 0.0 in labels with no predicted samples. Use `zero_division` parameter to control this behavior.\n",
            "  _warn_prf(average, modifier, f\"{metric.capitalize()} is\", len(result))\n",
            "/usr/local/lib/python3.12/dist-packages/sklearn/metrics/_classification.py:1565: UndefinedMetricWarning: Precision is ill-defined and being set to 0.0 in labels with no predicted samples. Use `zero_division` parameter to control this behavior.\n",
            "  _warn_prf(average, modifier, f\"{metric.capitalize()} is\", len(result))\n",
            "/usr/local/lib/python3.12/dist-packages/sklearn/metrics/_classification.py:1565: UndefinedMetricWarning: Precision is ill-defined and being set to 0.0 in labels with no predicted samples. Use `zero_division` parameter to control this behavior.\n",
            "  _warn_prf(average, modifier, f\"{metric.capitalize()} is\", len(result))\n"
          ]
        },
        {
          "name": "stdout",
          "output_type": "stream",
          "text": [
            "\n",
            " Detailed Classification Report:\n",
            "              precision    recall  f1-score   support\n",
            "\n",
            "     Class_0     0.8542    0.9318    0.8913        88\n",
            "     Class_1     0.5714    0.4167    0.4819        48\n",
            "     Class_2     0.8458    0.8080    0.8265       224\n",
            "     Class_3     0.8800    0.9565    0.9167        23\n",
            "     Class_4     0.0000    0.0000    0.0000        53\n",
            "     Class_5     0.4615    0.4615    0.4615        26\n",
            "     Class_6     0.7931    0.9787    0.8762        47\n",
            "     Class_7     0.8872    0.8872    0.8872       195\n",
            "     Class_8     0.0000    0.0000    0.0000         4\n",
            "     Class_9     0.5362    0.5968    0.5649        62\n",
            "    Class_10     0.6923    0.6000    0.6429        90\n",
            "    Class_11     0.9735    0.9821    0.9778       112\n",
            "    Class_12     0.8310    0.7284    0.7763        81\n",
            "    Class_13     0.5984    0.6032    0.6008       126\n",
            "    Class_14     0.0000    0.0000    0.0000         2\n",
            "    Class_15     0.9722    1.0000    0.9859        70\n",
            "    Class_16     1.0000    0.9683    0.9839        63\n",
            "    Class_17     0.9111    0.9425    0.9266        87\n",
            "    Class_18     0.9844    0.9844    0.9844        64\n",
            "    Class_19     0.9136    0.9663    0.9393       208\n",
            "    Class_20     0.9070    0.9341    0.9204       167\n",
            "    Class_21     0.4717    0.7576    0.5814        33\n",
            "    Class_22     0.7805    0.7901    0.7853        81\n",
            "    Class_23     0.5652    0.6190    0.5909        63\n",
            "    Class_24     0.7789    0.9024    0.8362        82\n",
            "    Class_25     0.2812    0.6000    0.3830        15\n",
            "    Class_26     0.9817    0.9878    0.9847       490\n",
            "    Class_27     0.8857    0.9394    0.9118        66\n",
            "    Class_28     0.4694    0.8214    0.5974        56\n",
            "    Class_29     0.8133    0.5126    0.6289       119\n",
            "    Class_30     0.8571    0.8750    0.8660        48\n",
            "    Class_31     0.9130    0.8660    0.8889        97\n",
            "    Class_32     0.7667    0.7931    0.7797        58\n",
            "    Class_33     0.8313    0.9324    0.8790        74\n",
            "    Class_34     0.6765    0.7419    0.7077        31\n",
            "    Class_35     0.6727    0.7872    0.7255        47\n",
            "    Class_36     0.4386    0.5556    0.4902        45\n",
            "    Class_37     0.4167    0.1190    0.1852        42\n",
            "    Class_38     0.8686    0.9495    0.9072       376\n",
            "    Class_39     0.9831    1.0000    0.9915        58\n",
            "    Class_40     0.9444    0.8095    0.8718        42\n",
            "    Class_41     0.9024    0.8087    0.8530       183\n",
            "    Class_42     0.7917    0.8539    0.8216        89\n",
            "    Class_43     0.9529    0.9878    0.9701        82\n",
            "    Class_44     0.7500    0.9231    0.8276        52\n",
            "    Class_45     0.9286    0.9408    0.9346       152\n",
            "    Class_46     0.7473    0.3350    0.4626       203\n",
            "    Class_47     0.9048    0.9313    0.9179       582\n",
            "    Class_48     0.9721    0.9500    0.9609       220\n",
            "    Class_49     0.9155    0.8553    0.8844       152\n",
            "    Class_50     0.4722    0.5862    0.5231        29\n",
            "    Class_51     0.9559    0.9774    0.9665       133\n",
            "    Class_52     0.7222    0.4407    0.5474        59\n",
            "    Class_53     0.8714    0.9531    0.9104        64\n",
            "    Class_54     0.8947    0.8095    0.8500        42\n",
            "    Class_55     0.4943    0.5658    0.5276        76\n",
            "    Class_56     0.3333    0.0345    0.0625        29\n",
            "    Class_57     0.9130    0.8571    0.8842        49\n",
            "    Class_58     0.9831    0.8992    0.9393       129\n",
            "    Class_59     0.5270    0.4937    0.5098        79\n",
            "    Class_60     0.5556    0.6364    0.5932        55\n",
            "    Class_61     0.9231    0.9231    0.9231       104\n",
            "    Class_62     0.9206    0.9206    0.9206        63\n",
            "    Class_63     0.6916    0.8810    0.7749        84\n",
            "    Class_64     0.9388    1.0000    0.9684        46\n",
            "    Class_65     0.9807    0.9645    0.9725       422\n",
            "    Class_66     0.8571    0.9041    0.8800        73\n",
            "    Class_67     0.8537    1.0000    0.9211        70\n",
            "    Class_68     0.6852    0.8810    0.7708       126\n",
            "    Class_69     0.5000    0.7188    0.5897        32\n",
            "    Class_70     0.3000    0.4615    0.3636        13\n",
            "    Class_71     0.9756    0.9524    0.9639        42\n",
            "    Class_72     0.0000    0.0000    0.0000         5\n",
            "    Class_73     0.8611    1.0000    0.9254        31\n",
            "    Class_74     0.8413    0.8833    0.8618        60\n",
            "    Class_75     0.7899    0.7966    0.7932       118\n",
            "    Class_76     0.6667    0.6809    0.6737        94\n",
            "    Class_77     0.7255    0.8222    0.7708        45\n",
            "    Class_78     0.8462    0.7857    0.8148        14\n",
            "    Class_79     0.9438    0.9782    0.9607       412\n",
            "    Class_80     0.9848    0.9848    0.9848        66\n",
            "    Class_81     0.6786    0.8837    0.7677        43\n",
            "    Class_82     0.4839    0.5172    0.5000        29\n",
            "    Class_83     0.9242    0.9683    0.9457        63\n",
            "    Class_84     0.6951    0.5938    0.6404        96\n",
            "    Class_85     0.9339    0.9550    0.9443       222\n",
            "    Class_86     0.4783    0.7333    0.5789        75\n",
            "    Class_87     0.9231    0.7784    0.8446       185\n",
            "    Class_88     0.8017    0.7881    0.7949       118\n",
            "    Class_89     0.9214    0.7330    0.8165       176\n",
            "    Class_90     0.6923    0.6000    0.6429        45\n",
            "    Class_91     0.9787    1.0000    0.9892        46\n",
            "    Class_92     0.9748    0.9667    0.9707       120\n",
            "    Class_93     0.9808    0.9808    0.9808        52\n",
            "    Class_94     0.1951    0.4000    0.2623        20\n",
            "    Class_95     0.8469    0.9540    0.8973        87\n",
            "    Class_96     0.9730    0.9730    0.9730       111\n",
            "    Class_97     0.8366    0.7711    0.8025       166\n",
            "    Class_98     0.6437    0.5773    0.6087        97\n",
            "    Class_99     0.6857    0.6729    0.6792       107\n",
            "\n",
            "    accuracy                         0.8392     10000\n",
            "   macro avg     0.7453    0.7633    0.7466     10000\n",
            "weighted avg     0.8397    0.8392    0.8342     10000\n",
            "\n",
            "\n",
            " Saving trained teacher model...\n",
            "Teacher model saved successfully!\n",
            "Ready for knowledge distillation to student model!\n"
          ]
        }
      ],
      "source": [
        "print(\"Evaluating teacher model on test set...\")\n",
        "test_results = trainer.evaluate(eval_dataset=test_dataset)\n",
        "\n",
        "print(\"TEACHER MODEL EVALUATION RESULTS\\n\\n\")\n",
        "print(f\"Test Accuracy: {test_results['eval_accuracy']:.4f}\")\n",
        "print(f\"Test Macro F1: {test_results['eval_macro_f1']:.4f}\")\n",
        "print(f\"Test Weighted F1: {test_results['eval_weighted_f1']:.4f}\")\n",
        "\n",
        "predictions = trainer.predict(test_dataset)\n",
        "y_pred = np.argmax(predictions.predictions, axis=1)\n",
        "y_true = predictions.label_ids\n",
        "\n",
        "detailed_report = classification_report(\n",
        "    y_true, y_pred,\n",
        "    target_names=[f\"Class_{i}\" for i in range(100)],\n",
        "    digits=4\n",
        ")\n",
        "print(\"\\n Detailed Classification Report:\")\n",
        "print(detailed_report)\n",
        "\n",
        "print(\"\\n Saving trained teacher model...\")\n",
        "trainer.save_model(\"./legal-bert-ledgar-teacher-final\")\n",
        "tokenizer.save_pretrained(\"./legal-bert-ledgar-teacher-final\")\n",
        "\n",
        "print(\"Teacher model saved successfully!\")\n",
        "print(\"Ready for knowledge distillation to student model!\")\n"
      ]
    },
    {
      "cell_type": "code",
      "execution_count": 30,
      "metadata": {
        "id": "CtGO-jq-lUez"
      },
      "outputs": [],
      "source": []
    }
  ],
  "metadata": {
    "accelerator": "GPU",
    "colab": {
      "gpuType": "T4",
      "provenance": []
    },
    "kernelspec": {
      "display_name": "Python 3",
      "name": "python3"
    },
    "language_info": {
      "name": "python"
    },
    "widgets": {
      "application/vnd.jupyter.widget-state+json": {
        "05c48c645564426c83a0699f13ee254f": {
          "model_module": "@jupyter-widgets/controls",
          "model_module_version": "1.5.0",
          "model_name": "HTMLModel",
          "state": {
            "_dom_classes": [],
            "_model_module": "@jupyter-widgets/controls",
            "_model_module_version": "1.5.0",
            "_model_name": "HTMLModel",
            "_view_count": null,
            "_view_module": "@jupyter-widgets/controls",
            "_view_module_version": "1.5.0",
            "_view_name": "HTMLView",
            "description": "",
            "description_tooltip": null,
            "layout": "IPY_MODEL_1e659aa472f4407081cc63b64aeddf8a",
            "placeholder": "​",
            "style": "IPY_MODEL_bfe4dcb3e87a4a698c5e5c06ef34557c",
            "value": "Map: 100%"
          }
        },
        "1e659aa472f4407081cc63b64aeddf8a": {
          "model_module": "@jupyter-widgets/base",
          "model_module_version": "1.2.0",
          "model_name": "LayoutModel",
          "state": {
            "_model_module": "@jupyter-widgets/base",
            "_model_module_version": "1.2.0",
            "_model_name": "LayoutModel",
            "_view_count": null,
            "_view_module": "@jupyter-widgets/base",
            "_view_module_version": "1.2.0",
            "_view_name": "LayoutView",
            "align_content": null,
            "align_items": null,
            "align_self": null,
            "border": null,
            "bottom": null,
            "display": null,
            "flex": null,
            "flex_flow": null,
            "grid_area": null,
            "grid_auto_columns": null,
            "grid_auto_flow": null,
            "grid_auto_rows": null,
            "grid_column": null,
            "grid_gap": null,
            "grid_row": null,
            "grid_template_areas": null,
            "grid_template_columns": null,
            "grid_template_rows": null,
            "height": null,
            "justify_content": null,
            "justify_items": null,
            "left": null,
            "margin": null,
            "max_height": null,
            "max_width": null,
            "min_height": null,
            "min_width": null,
            "object_fit": null,
            "object_position": null,
            "order": null,
            "overflow": null,
            "overflow_x": null,
            "overflow_y": null,
            "padding": null,
            "right": null,
            "top": null,
            "visibility": null,
            "width": null
          }
        },
        "2d1e9dcfb04642e882ae626776477288": {
          "model_module": "@jupyter-widgets/controls",
          "model_module_version": "1.5.0",
          "model_name": "HTMLModel",
          "state": {
            "_dom_classes": [],
            "_model_module": "@jupyter-widgets/controls",
            "_model_module_version": "1.5.0",
            "_model_name": "HTMLModel",
            "_view_count": null,
            "_view_module": "@jupyter-widgets/controls",
            "_view_module_version": "1.5.0",
            "_view_name": "HTMLView",
            "description": "",
            "description_tooltip": null,
            "layout": "IPY_MODEL_53e4514f43ba493eb4a017b93a790b69",
            "placeholder": "​",
            "style": "IPY_MODEL_9387ecdbc76c49b19dffa4a9af009790",
            "value": " 10000/10000 [00:12&lt;00:00, 1210.01 examples/s]"
          }
        },
        "53e4514f43ba493eb4a017b93a790b69": {
          "model_module": "@jupyter-widgets/base",
          "model_module_version": "1.2.0",
          "model_name": "LayoutModel",
          "state": {
            "_model_module": "@jupyter-widgets/base",
            "_model_module_version": "1.2.0",
            "_model_name": "LayoutModel",
            "_view_count": null,
            "_view_module": "@jupyter-widgets/base",
            "_view_module_version": "1.2.0",
            "_view_name": "LayoutView",
            "align_content": null,
            "align_items": null,
            "align_self": null,
            "border": null,
            "bottom": null,
            "display": null,
            "flex": null,
            "flex_flow": null,
            "grid_area": null,
            "grid_auto_columns": null,
            "grid_auto_flow": null,
            "grid_auto_rows": null,
            "grid_column": null,
            "grid_gap": null,
            "grid_row": null,
            "grid_template_areas": null,
            "grid_template_columns": null,
            "grid_template_rows": null,
            "height": null,
            "justify_content": null,
            "justify_items": null,
            "left": null,
            "margin": null,
            "max_height": null,
            "max_width": null,
            "min_height": null,
            "min_width": null,
            "object_fit": null,
            "object_position": null,
            "order": null,
            "overflow": null,
            "overflow_x": null,
            "overflow_y": null,
            "padding": null,
            "right": null,
            "top": null,
            "visibility": null,
            "width": null
          }
        },
        "571fe6e8400241b0a6662136f55f601e": {
          "model_module": "@jupyter-widgets/controls",
          "model_module_version": "1.5.0",
          "model_name": "FloatProgressModel",
          "state": {
            "_dom_classes": [],
            "_model_module": "@jupyter-widgets/controls",
            "_model_module_version": "1.5.0",
            "_model_name": "FloatProgressModel",
            "_view_count": null,
            "_view_module": "@jupyter-widgets/controls",
            "_view_module_version": "1.5.0",
            "_view_name": "ProgressView",
            "bar_style": "success",
            "description": "",
            "description_tooltip": null,
            "layout": "IPY_MODEL_cf86db9652944b288ee153acdbb4ac06",
            "max": 10000,
            "min": 0,
            "orientation": "horizontal",
            "style": "IPY_MODEL_d449d88231644efb8385b846c5a01361",
            "value": 10000
          }
        },
        "895b7179d25e4232a3448fce997a6654": {
          "model_module": "@jupyter-widgets/controls",
          "model_module_version": "1.5.0",
          "model_name": "HBoxModel",
          "state": {
            "_dom_classes": [],
            "_model_module": "@jupyter-widgets/controls",
            "_model_module_version": "1.5.0",
            "_model_name": "HBoxModel",
            "_view_count": null,
            "_view_module": "@jupyter-widgets/controls",
            "_view_module_version": "1.5.0",
            "_view_name": "HBoxView",
            "box_style": "",
            "children": [
              "IPY_MODEL_05c48c645564426c83a0699f13ee254f",
              "IPY_MODEL_571fe6e8400241b0a6662136f55f601e",
              "IPY_MODEL_2d1e9dcfb04642e882ae626776477288"
            ],
            "layout": "IPY_MODEL_deab834b5b6d463dbdaacf9f2e6d04a4"
          }
        },
        "9387ecdbc76c49b19dffa4a9af009790": {
          "model_module": "@jupyter-widgets/controls",
          "model_module_version": "1.5.0",
          "model_name": "DescriptionStyleModel",
          "state": {
            "_model_module": "@jupyter-widgets/controls",
            "_model_module_version": "1.5.0",
            "_model_name": "DescriptionStyleModel",
            "_view_count": null,
            "_view_module": "@jupyter-widgets/base",
            "_view_module_version": "1.2.0",
            "_view_name": "StyleView",
            "description_width": ""
          }
        },
        "bfe4dcb3e87a4a698c5e5c06ef34557c": {
          "model_module": "@jupyter-widgets/controls",
          "model_module_version": "1.5.0",
          "model_name": "DescriptionStyleModel",
          "state": {
            "_model_module": "@jupyter-widgets/controls",
            "_model_module_version": "1.5.0",
            "_model_name": "DescriptionStyleModel",
            "_view_count": null,
            "_view_module": "@jupyter-widgets/base",
            "_view_module_version": "1.2.0",
            "_view_name": "StyleView",
            "description_width": ""
          }
        },
        "cf86db9652944b288ee153acdbb4ac06": {
          "model_module": "@jupyter-widgets/base",
          "model_module_version": "1.2.0",
          "model_name": "LayoutModel",
          "state": {
            "_model_module": "@jupyter-widgets/base",
            "_model_module_version": "1.2.0",
            "_model_name": "LayoutModel",
            "_view_count": null,
            "_view_module": "@jupyter-widgets/base",
            "_view_module_version": "1.2.0",
            "_view_name": "LayoutView",
            "align_content": null,
            "align_items": null,
            "align_self": null,
            "border": null,
            "bottom": null,
            "display": null,
            "flex": null,
            "flex_flow": null,
            "grid_area": null,
            "grid_auto_columns": null,
            "grid_auto_flow": null,
            "grid_auto_rows": null,
            "grid_column": null,
            "grid_gap": null,
            "grid_row": null,
            "grid_template_areas": null,
            "grid_template_columns": null,
            "grid_template_rows": null,
            "height": null,
            "justify_content": null,
            "justify_items": null,
            "left": null,
            "margin": null,
            "max_height": null,
            "max_width": null,
            "min_height": null,
            "min_width": null,
            "object_fit": null,
            "object_position": null,
            "order": null,
            "overflow": null,
            "overflow_x": null,
            "overflow_y": null,
            "padding": null,
            "right": null,
            "top": null,
            "visibility": null,
            "width": null
          }
        },
        "d449d88231644efb8385b846c5a01361": {
          "model_module": "@jupyter-widgets/controls",
          "model_module_version": "1.5.0",
          "model_name": "ProgressStyleModel",
          "state": {
            "_model_module": "@jupyter-widgets/controls",
            "_model_module_version": "1.5.0",
            "_model_name": "ProgressStyleModel",
            "_view_count": null,
            "_view_module": "@jupyter-widgets/base",
            "_view_module_version": "1.2.0",
            "_view_name": "StyleView",
            "bar_color": null,
            "description_width": ""
          }
        },
        "deab834b5b6d463dbdaacf9f2e6d04a4": {
          "model_module": "@jupyter-widgets/base",
          "model_module_version": "1.2.0",
          "model_name": "LayoutModel",
          "state": {
            "_model_module": "@jupyter-widgets/base",
            "_model_module_version": "1.2.0",
            "_model_name": "LayoutModel",
            "_view_count": null,
            "_view_module": "@jupyter-widgets/base",
            "_view_module_version": "1.2.0",
            "_view_name": "LayoutView",
            "align_content": null,
            "align_items": null,
            "align_self": null,
            "border": null,
            "bottom": null,
            "display": null,
            "flex": null,
            "flex_flow": null,
            "grid_area": null,
            "grid_auto_columns": null,
            "grid_auto_flow": null,
            "grid_auto_rows": null,
            "grid_column": null,
            "grid_gap": null,
            "grid_row": null,
            "grid_template_areas": null,
            "grid_template_columns": null,
            "grid_template_rows": null,
            "height": null,
            "justify_content": null,
            "justify_items": null,
            "left": null,
            "margin": null,
            "max_height": null,
            "max_width": null,
            "min_height": null,
            "min_width": null,
            "object_fit": null,
            "object_position": null,
            "order": null,
            "overflow": null,
            "overflow_x": null,
            "overflow_y": null,
            "padding": null,
            "right": null,
            "top": null,
            "visibility": null,
            "width": null
          }
        }
      }
    }
  },
  "nbformat": 4,
  "nbformat_minor": 0
}
